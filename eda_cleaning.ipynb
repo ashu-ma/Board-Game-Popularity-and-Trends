{
 "cells": [
  {
   "cell_type": "code",
   "execution_count": 2,
   "id": "5d63facf",
   "metadata": {},
   "outputs": [],
   "source": [
    "import pandas as pd\n",
    "import matplotlib.pyplot as plt\n",
    "import seaborn as sns"
   ]
  },
  {
   "cell_type": "code",
   "execution_count": 3,
   "id": "660535dc",
   "metadata": {},
   "outputs": [
    {
     "data": {
      "application/vnd.microsoft.datawrangler.viewer.v0+json": {
       "columns": [
        {
         "name": "index",
         "rawType": "int64",
         "type": "integer"
        },
        {
         "name": "Rank",
         "rawType": "int64",
         "type": "integer"
        },
        {
         "name": "Title",
         "rawType": "object",
         "type": "string"
        },
        {
         "name": "Year",
         "rawType": "int64",
         "type": "integer"
        },
        {
         "name": "Rating",
         "rawType": "float64",
         "type": "float"
        },
        {
         "name": "Avg_Rating",
         "rawType": "float64",
         "type": "float"
        },
        {
         "name": "Voters",
         "rawType": "int64",
         "type": "integer"
        }
       ],
       "conversionMethod": "pd.DataFrame",
       "ref": "45a68e48-4e51-4a53-a2e7-d84b7560ddf1",
       "rows": [
        [
         "0",
         "1",
         "Brass: Birmingham",
         "2018",
         "8.402",
         "8.58",
         "51834"
        ],
        [
         "1",
         "2",
         "Pandemic Legacy: Season 1",
         "2015",
         "8.364",
         "8.52",
         "55509"
        ],
        [
         "2",
         "3",
         "Ark Nova",
         "2021",
         "8.345",
         "8.54",
         "52095"
        ],
        [
         "3",
         "4",
         "Gloomhaven",
         "2017",
         "8.327",
         "8.56",
         "64782"
        ],
        [
         "4",
         "5",
         "Twilight Imperium: Fourth Edition",
         "2017",
         "8.229",
         "8.58",
         "25993"
        ],
        [
         "5",
         "6",
         "Dune: Imperium",
         "2020",
         "8.227",
         "8.42",
         "52246"
        ],
        [
         "6",
         "7",
         "Terraforming Mars",
         "2016",
         "8.201",
         "8.35",
         "106061"
        ],
        [
         "7",
         "8",
         "War of the Ring: Second Edition",
         "2011",
         "8.193",
         "8.55",
         "23214"
        ],
        [
         "8",
         "9",
         "Star Wars: Rebellion",
         "2016",
         "8.169",
         "8.42",
         "34404"
        ],
        [
         "9",
         "10",
         "Spirit Island",
         "2017",
         "8.142",
         "8.34",
         "57241"
        ],
        [
         "10",
         "11",
         "Gloomhaven: Jaws of the Lion",
         "2020",
         "8.129",
         "8.4",
         "37723"
        ],
        [
         "11",
         "12",
         "Dune: Imperium – Uprising",
         "2023",
         "8.115",
         "8.72",
         "11644"
        ],
        [
         "12",
         "13",
         "Gaia Project",
         "2017",
         "8.099",
         "8.36",
         "29287"
        ],
        [
         "13",
         "14",
         "Twilight Struggle",
         "2005",
         "8.054",
         "8.24",
         "50413"
        ],
        [
         "14",
         "15",
         "Through the Ages: A New Story of Civilization",
         "2015",
         "8.037",
         "8.27",
         "33273"
        ],
        [
         "15",
         "16",
         "The Castles of Burgundy",
         "2011",
         "8.021",
         "8.15",
         "65775"
        ],
        [
         "16",
         "17",
         "Great Western Trail",
         "2016",
         "7.998",
         "8.17",
         "42414"
        ],
        [
         "17",
         "18",
         "Eclipse: Second Dawn for the Galaxy",
         "2020",
         "7.969",
         "8.42",
         "15491"
        ],
        [
         "18",
         "19",
         "Scythe",
         "2016",
         "7.969",
         "8.12",
         "88495"
        ],
        [
         "19",
         "20",
         "7 Wonders Duel",
         "2015",
         "7.963",
         "8.09",
         "101793"
        ],
        [
         "20",
         "21",
         "Brass: Lancashire",
         "2007",
         "7.961",
         "8.2",
         "26077"
        ],
        [
         "21",
         "22",
         "Frosthaven",
         "2022",
         "7.95",
         "8.79",
         "8569"
        ],
        [
         "22",
         "23",
         "Nemesis",
         "2018",
         "7.949",
         "8.26",
         "33869"
        ],
        [
         "23",
         "24",
         "Clank! Legacy: Acquisitions Incorporated",
         "2019",
         "7.944",
         "8.52",
         "10396"
        ],
        [
         "24",
         "25",
         "A Feast for Odin",
         "2016",
         "7.941",
         "8.16",
         "30921"
        ],
        [
         "25",
         "26",
         "Concordia",
         "2013",
         "7.933",
         "8.08",
         "42733"
        ],
        [
         "26",
         "27",
         "Great Western Trail: Second Edition",
         "2021",
         "7.903",
         "8.29",
         "15349"
        ],
        [
         "27",
         "28",
         "Lost Ruins of Arnak",
         "2020",
         "7.899",
         "8.07",
         "50149"
        ],
        [
         "28",
         "29",
         "Arkham Horror: The Card Game",
         "2016",
         "7.898",
         "8.13",
         "45550"
        ],
        [
         "29",
         "30",
         "Root",
         "2018",
         "7.885",
         "8.07",
         "57572"
        ],
        [
         "30",
         "31",
         "Too Many Bones",
         "2017",
         "7.877",
         "8.33",
         "15343"
        ],
        [
         "31",
         "32",
         "Terra Mystica",
         "2012",
         "7.874",
         "8.04",
         "49506"
        ],
        [
         "32",
         "33",
         "Wingspan",
         "2019",
         "7.87",
         "8.02",
         "103046"
        ],
        [
         "33",
         "34",
         "Orléans",
         "2014",
         "7.862",
         "8.05",
         "33557"
        ],
        [
         "34",
         "35",
         "Sky Team",
         "2023",
         "7.846",
         "8.17",
         "19979"
        ],
        [
         "35",
         "36",
         "Mage Knight Board Game",
         "2011",
         "7.845",
         "8.08",
         "34258"
        ],
        [
         "36",
         "37",
         "Barrage",
         "2019",
         "7.842",
         "8.15",
         "19664"
        ],
        [
         "37",
         "38",
         "The Crew: Mission Deep Sea",
         "2021",
         "7.828",
         "8.1",
         "21518"
        ],
        [
         "38",
         "39",
         "Everdell",
         "2018",
         "7.827",
         "8.0",
         "61573"
        ],
        [
         "39",
         "40",
         "Viticulture Essential Edition",
         "2015",
         "7.822",
         "7.97",
         "51989"
        ],
        [
         "40",
         "41",
         "The Lord of the Rings: Duel for Middle-earth",
         "2024",
         "7.811",
         "8.4",
         "10179"
        ],
        [
         "41",
         "42",
         "Heat: Pedal to the Metal",
         "2022",
         "7.797",
         "8.02",
         "32041"
        ],
        [
         "42",
         "43",
         "Marvel Champions: The Card Game",
         "2019",
         "7.793",
         "8.11",
         "25762"
        ],
        [
         "43",
         "44",
         "Crokinole",
         "1876",
         "7.786",
         "8.05",
         "19581"
        ],
        [
         "44",
         "45",
         "Food Chain Magnate",
         "2015",
         "7.784",
         "8.05",
         "21638"
        ],
        [
         "45",
         "46",
         "Kanban EV",
         "2020",
         "7.782",
         "8.4",
         "8893"
        ],
        [
         "46",
         "47",
         "Hegemony: Lead Your Class to Victory",
         "2023",
         "7.781",
         "8.43",
         "9394"
        ],
        [
         "47",
         "48",
         "Pax Pamir: Second Edition",
         "2019",
         "7.778",
         "8.15",
         "15851"
        ],
        [
         "48",
         "49",
         "Underwater Cities",
         "2018",
         "7.776",
         "8.05",
         "21307"
        ],
        [
         "49",
         "50",
         "Puerto Rico",
         "2002",
         "7.763",
         "7.91",
         "72639"
        ]
       ],
       "shape": {
        "columns": 6,
        "rows": 200
       }
      },
      "text/html": [
       "<div>\n",
       "<style scoped>\n",
       "    .dataframe tbody tr th:only-of-type {\n",
       "        vertical-align: middle;\n",
       "    }\n",
       "\n",
       "    .dataframe tbody tr th {\n",
       "        vertical-align: top;\n",
       "    }\n",
       "\n",
       "    .dataframe thead th {\n",
       "        text-align: right;\n",
       "    }\n",
       "</style>\n",
       "<table border=\"1\" class=\"dataframe\">\n",
       "  <thead>\n",
       "    <tr style=\"text-align: right;\">\n",
       "      <th></th>\n",
       "      <th>Rank</th>\n",
       "      <th>Title</th>\n",
       "      <th>Year</th>\n",
       "      <th>Rating</th>\n",
       "      <th>Avg_Rating</th>\n",
       "      <th>Voters</th>\n",
       "    </tr>\n",
       "  </thead>\n",
       "  <tbody>\n",
       "    <tr>\n",
       "      <th>0</th>\n",
       "      <td>1</td>\n",
       "      <td>Brass: Birmingham</td>\n",
       "      <td>2018</td>\n",
       "      <td>8.402</td>\n",
       "      <td>8.58</td>\n",
       "      <td>51834</td>\n",
       "    </tr>\n",
       "    <tr>\n",
       "      <th>1</th>\n",
       "      <td>2</td>\n",
       "      <td>Pandemic Legacy: Season 1</td>\n",
       "      <td>2015</td>\n",
       "      <td>8.364</td>\n",
       "      <td>8.52</td>\n",
       "      <td>55509</td>\n",
       "    </tr>\n",
       "    <tr>\n",
       "      <th>2</th>\n",
       "      <td>3</td>\n",
       "      <td>Ark Nova</td>\n",
       "      <td>2021</td>\n",
       "      <td>8.345</td>\n",
       "      <td>8.54</td>\n",
       "      <td>52095</td>\n",
       "    </tr>\n",
       "    <tr>\n",
       "      <th>3</th>\n",
       "      <td>4</td>\n",
       "      <td>Gloomhaven</td>\n",
       "      <td>2017</td>\n",
       "      <td>8.327</td>\n",
       "      <td>8.56</td>\n",
       "      <td>64782</td>\n",
       "    </tr>\n",
       "    <tr>\n",
       "      <th>4</th>\n",
       "      <td>5</td>\n",
       "      <td>Twilight Imperium: Fourth Edition</td>\n",
       "      <td>2017</td>\n",
       "      <td>8.229</td>\n",
       "      <td>8.58</td>\n",
       "      <td>25993</td>\n",
       "    </tr>\n",
       "    <tr>\n",
       "      <th>...</th>\n",
       "      <td>...</td>\n",
       "      <td>...</td>\n",
       "      <td>...</td>\n",
       "      <td>...</td>\n",
       "      <td>...</td>\n",
       "      <td>...</td>\n",
       "    </tr>\n",
       "    <tr>\n",
       "      <th>195</th>\n",
       "      <td>96</td>\n",
       "      <td>Lords of Waterdeep</td>\n",
       "      <td>2012</td>\n",
       "      <td>7.587</td>\n",
       "      <td>7.73</td>\n",
       "      <td>57457</td>\n",
       "    </tr>\n",
       "    <tr>\n",
       "      <th>196</th>\n",
       "      <td>97</td>\n",
       "      <td>El Grande</td>\n",
       "      <td>1995</td>\n",
       "      <td>7.587</td>\n",
       "      <td>7.76</td>\n",
       "      <td>31040</td>\n",
       "    </tr>\n",
       "    <tr>\n",
       "      <th>197</th>\n",
       "      <td>98</td>\n",
       "      <td>Wingspan Asia</td>\n",
       "      <td>2022</td>\n",
       "      <td>7.585</td>\n",
       "      <td>8.25</td>\n",
       "      <td>8066</td>\n",
       "    </tr>\n",
       "    <tr>\n",
       "      <th>198</th>\n",
       "      <td>99</td>\n",
       "      <td>Great Western Trail: New Zealand</td>\n",
       "      <td>2023</td>\n",
       "      <td>7.583</td>\n",
       "      <td>8.53</td>\n",
       "      <td>5093</td>\n",
       "    </tr>\n",
       "    <tr>\n",
       "      <th>199</th>\n",
       "      <td>100</td>\n",
       "      <td>Teotihuacan: City of Gods</td>\n",
       "      <td>2018</td>\n",
       "      <td>7.580</td>\n",
       "      <td>7.85</td>\n",
       "      <td>21036</td>\n",
       "    </tr>\n",
       "  </tbody>\n",
       "</table>\n",
       "<p>200 rows × 6 columns</p>\n",
       "</div>"
      ],
      "text/plain": [
       "     Rank                              Title  Year  Rating  Avg_Rating  Voters\n",
       "0       1                  Brass: Birmingham  2018   8.402        8.58   51834\n",
       "1       2          Pandemic Legacy: Season 1  2015   8.364        8.52   55509\n",
       "2       3                           Ark Nova  2021   8.345        8.54   52095\n",
       "3       4                         Gloomhaven  2017   8.327        8.56   64782\n",
       "4       5  Twilight Imperium: Fourth Edition  2017   8.229        8.58   25993\n",
       "..    ...                                ...   ...     ...         ...     ...\n",
       "195    96                 Lords of Waterdeep  2012   7.587        7.73   57457\n",
       "196    97                          El Grande  1995   7.587        7.76   31040\n",
       "197    98                      Wingspan Asia  2022   7.585        8.25    8066\n",
       "198    99   Great Western Trail: New Zealand  2023   7.583        8.53    5093\n",
       "199   100          Teotihuacan: City of Gods  2018   7.580        7.85   21036\n",
       "\n",
       "[200 rows x 6 columns]"
      ]
     },
     "execution_count": 3,
     "metadata": {},
     "output_type": "execute_result"
    }
   ],
   "source": [
    "df=pd.read_csv('boardgames_top200.csv')\n",
    "df"
   ]
  },
  {
   "cell_type": "code",
   "execution_count": 4,
   "id": "857a2a99",
   "metadata": {},
   "outputs": [
    {
     "name": "stdout",
     "output_type": "stream",
     "text": [
      "<class 'pandas.core.frame.DataFrame'>\n",
      "RangeIndex: 200 entries, 0 to 199\n",
      "Data columns (total 6 columns):\n",
      " #   Column      Non-Null Count  Dtype  \n",
      "---  ------      --------------  -----  \n",
      " 0   Rank        200 non-null    int64  \n",
      " 1   Title       200 non-null    object \n",
      " 2   Year        200 non-null    int64  \n",
      " 3   Rating      200 non-null    float64\n",
      " 4   Avg_Rating  200 non-null    float64\n",
      " 5   Voters      200 non-null    int64  \n",
      "dtypes: float64(2), int64(3), object(1)\n",
      "memory usage: 9.5+ KB\n"
     ]
    },
    {
     "data": {
      "application/vnd.microsoft.datawrangler.viewer.v0+json": {
       "columns": [
        {
         "name": "index",
         "rawType": "object",
         "type": "string"
        },
        {
         "name": "Rank",
         "rawType": "float64",
         "type": "float"
        },
        {
         "name": "Year",
         "rawType": "float64",
         "type": "float"
        },
        {
         "name": "Rating",
         "rawType": "float64",
         "type": "float"
        },
        {
         "name": "Avg_Rating",
         "rawType": "float64",
         "type": "float"
        },
        {
         "name": "Voters",
         "rawType": "float64",
         "type": "float"
        }
       ],
       "conversionMethod": "pd.DataFrame",
       "ref": "9ac29628-4269-482e-9bd6-279db2b56e6f",
       "rows": [
        [
         "count",
         "200.0",
         "200.0",
         "200.0",
         "200.0",
         "200.0"
        ],
        [
         "mean",
         "50.5",
         "2015.38",
         "7.81836",
         "8.1538",
         "32948.12"
        ],
        [
         "std",
         "28.93850697478445",
         "14.937578661932028",
         "0.20058299551669947",
         "0.2640876206049498",
         "23544.179032558895"
        ],
        [
         "min",
         "1.0",
         "1876.0",
         "7.58",
         "7.73",
         "4700.0"
        ],
        [
         "25%",
         "25.75",
         "2015.0",
         "7.667",
         "7.96",
         "15347.5"
        ],
        [
         "50%",
         "50.5",
         "2017.0",
         "7.7620000000000005",
         "8.1",
         "25877.5"
        ],
        [
         "75%",
         "75.25",
         "2020.0",
         "7.935",
         "8.3525",
         "47706.0"
        ],
        [
         "max",
         "100.0",
         "2024.0",
         "8.402",
         "8.86",
         "106061.0"
        ]
       ],
       "shape": {
        "columns": 5,
        "rows": 8
       }
      },
      "text/html": [
       "<div>\n",
       "<style scoped>\n",
       "    .dataframe tbody tr th:only-of-type {\n",
       "        vertical-align: middle;\n",
       "    }\n",
       "\n",
       "    .dataframe tbody tr th {\n",
       "        vertical-align: top;\n",
       "    }\n",
       "\n",
       "    .dataframe thead th {\n",
       "        text-align: right;\n",
       "    }\n",
       "</style>\n",
       "<table border=\"1\" class=\"dataframe\">\n",
       "  <thead>\n",
       "    <tr style=\"text-align: right;\">\n",
       "      <th></th>\n",
       "      <th>Rank</th>\n",
       "      <th>Year</th>\n",
       "      <th>Rating</th>\n",
       "      <th>Avg_Rating</th>\n",
       "      <th>Voters</th>\n",
       "    </tr>\n",
       "  </thead>\n",
       "  <tbody>\n",
       "    <tr>\n",
       "      <th>count</th>\n",
       "      <td>200.000000</td>\n",
       "      <td>200.000000</td>\n",
       "      <td>200.000000</td>\n",
       "      <td>200.000000</td>\n",
       "      <td>200.000000</td>\n",
       "    </tr>\n",
       "    <tr>\n",
       "      <th>mean</th>\n",
       "      <td>50.500000</td>\n",
       "      <td>2015.380000</td>\n",
       "      <td>7.818360</td>\n",
       "      <td>8.153800</td>\n",
       "      <td>32948.120000</td>\n",
       "    </tr>\n",
       "    <tr>\n",
       "      <th>std</th>\n",
       "      <td>28.938507</td>\n",
       "      <td>14.937579</td>\n",
       "      <td>0.200583</td>\n",
       "      <td>0.264088</td>\n",
       "      <td>23544.179033</td>\n",
       "    </tr>\n",
       "    <tr>\n",
       "      <th>min</th>\n",
       "      <td>1.000000</td>\n",
       "      <td>1876.000000</td>\n",
       "      <td>7.580000</td>\n",
       "      <td>7.730000</td>\n",
       "      <td>4700.000000</td>\n",
       "    </tr>\n",
       "    <tr>\n",
       "      <th>25%</th>\n",
       "      <td>25.750000</td>\n",
       "      <td>2015.000000</td>\n",
       "      <td>7.667000</td>\n",
       "      <td>7.960000</td>\n",
       "      <td>15347.500000</td>\n",
       "    </tr>\n",
       "    <tr>\n",
       "      <th>50%</th>\n",
       "      <td>50.500000</td>\n",
       "      <td>2017.000000</td>\n",
       "      <td>7.762000</td>\n",
       "      <td>8.100000</td>\n",
       "      <td>25877.500000</td>\n",
       "    </tr>\n",
       "    <tr>\n",
       "      <th>75%</th>\n",
       "      <td>75.250000</td>\n",
       "      <td>2020.000000</td>\n",
       "      <td>7.935000</td>\n",
       "      <td>8.352500</td>\n",
       "      <td>47706.000000</td>\n",
       "    </tr>\n",
       "    <tr>\n",
       "      <th>max</th>\n",
       "      <td>100.000000</td>\n",
       "      <td>2024.000000</td>\n",
       "      <td>8.402000</td>\n",
       "      <td>8.860000</td>\n",
       "      <td>106061.000000</td>\n",
       "    </tr>\n",
       "  </tbody>\n",
       "</table>\n",
       "</div>"
      ],
      "text/plain": [
       "             Rank         Year      Rating  Avg_Rating         Voters\n",
       "count  200.000000   200.000000  200.000000  200.000000     200.000000\n",
       "mean    50.500000  2015.380000    7.818360    8.153800   32948.120000\n",
       "std     28.938507    14.937579    0.200583    0.264088   23544.179033\n",
       "min      1.000000  1876.000000    7.580000    7.730000    4700.000000\n",
       "25%     25.750000  2015.000000    7.667000    7.960000   15347.500000\n",
       "50%     50.500000  2017.000000    7.762000    8.100000   25877.500000\n",
       "75%     75.250000  2020.000000    7.935000    8.352500   47706.000000\n",
       "max    100.000000  2024.000000    8.402000    8.860000  106061.000000"
      ]
     },
     "execution_count": 4,
     "metadata": {},
     "output_type": "execute_result"
    }
   ],
   "source": [
    "df.info()\n",
    "df.describe()"
   ]
  },
  {
   "cell_type": "code",
   "execution_count": 7,
   "id": "3465b56d",
   "metadata": {},
   "outputs": [
    {
     "name": "stdout",
     "output_type": "stream",
     "text": [
      "Year\n",
      "2015    18\n",
      "2016    22\n",
      "2017    20\n",
      "2018    16\n",
      "2019    18\n",
      "2020    14\n",
      "2021    10\n",
      "2022    12\n",
      "2023    16\n",
      "2024     8\n",
      "Name: count, dtype: int64\n"
     ]
    }
   ],
   "source": [
    "df=df.rename(columns={'Rating':'Geek_Ratings','Avg_Rating':'Avg_Ratings'})\n",
    "print(df['Year'].value_counts().sort_index().tail(10))"
   ]
  },
  {
   "cell_type": "code",
   "execution_count": null,
   "id": "5949c67a",
   "metadata": {},
   "outputs": [
    {
     "name": "stderr",
     "output_type": "stream",
     "text": [
      "C:\\Users\\ashut\\AppData\\Local\\Temp\\ipykernel_10516\\1366900239.py:3: FutureWarning: \n",
      "\n",
      "Passing `palette` without assigning `hue` is deprecated and will be removed in v0.14.0. Assign the `y` variable to `hue` and set `legend=False` for the same effect.\n",
      "\n",
      "  sns.barplot(data=top10, y=\"Title\", x=\"Geek_Ratings\", palette=\"viridis\")\n"
     ]
    },
    {
     "data": {
      "image/png": "[encoded data removed]",
      "text/plain": [
       "<Figure size 864x432 with 1 Axes>"
      ]
     },
     "metadata": {
      "needs_background": "light"
     },
     "output_type": "display_data"
    }
   ],
   "source": [
    "# Top 10 Rated Games\n",
    "top10 = df.sort_values(by=\"Geek_Ratings\", ascending=False).head(10)\n",
    "plt.figure(figsize=(12,6))\n",
    "sns.barplot(data=top10, y=\"Title\", x=\"Geek_Ratings\", palette=\"viridis\")\n",
    "plt.title(\"Top 10 Board Games by Geek Rating\")\n",
    "plt.xlabel(\"Geek Rating\")\n",
    "plt.ylabel(\"Game Title\")\n",
    "plt.tight_layout()\n",
    "plt.show()"
   ]
  },
  {
   "cell_type": "code",
   "execution_count": 12,
   "id": "8d9cb207",
   "metadata": {},
   "outputs": [
    {
     "data": {
      "image/png": "[encoded data removed]",
      "text/plain": [
       "<Figure size 864x432 with 1 Axes>"
      ]
     },
     "metadata": {
      "needs_background": "light"
     },
     "output_type": "display_data"
    }
   ],
   "source": [
    "# Rating Trends Over Years\n",
    "plt.figure(figsize=(12,6))\n",
    "sns.lineplot(data=df, x=\"Year\", y=\"Geek_Ratings\", label=\"Geek Rating\")\n",
    "sns.lineplot(data=df, x=\"Year\", y=\"Avg_Ratings\", label=\"Avg Rating\")\n",
    "plt.title(\"Rating Trends Over Years\")\n",
    "plt.xlabel(\"Year\")\n",
    "plt.ylabel(\"Rating\")\n",
    "plt.legend()\n",
    "plt.tight_layout()\n",
    "plt.show()"
   ]
  },
  {
   "cell_type": "code",
   "execution_count": 14,
   "id": "a09986cb",
   "metadata": {},
   "outputs": [
    {
     "data": {
      "image/png": "[encoded data removed]",
      "text/plain": [
       "<Figure size 432x288 with 2 Axes>"
      ]
     },
     "metadata": {
      "needs_background": "light"
     },
     "output_type": "display_data"
    }
   ],
   "source": [
    "#Correlation Heatmap\n",
    "plt.figure(figsize=(6,4))\n",
    "sns.heatmap(df[[\"Geek_Ratings\", \"Avg_Ratings\", \"Voters\"]].corr(), annot=True, cmap=\"coolwarm\")\n",
    "plt.title(\"Correlation Between Ratings and Voters\")\n",
    "plt.tight_layout()\n",
    "plt.show()"
   ]
  },
  {
   "cell_type": "code",
   "execution_count": 16,
   "id": "927f774e",
   "metadata": {},
   "outputs": [
    {
     "data": {
      "image/png": "[encoded data removed]",
      "text/plain": [
       "<Figure size 720x432 with 1 Axes>"
      ]
     },
     "metadata": {
      "needs_background": "light"
     },
     "output_type": "display_data"
    }
   ],
   "source": [
    "#Votes vs Rating Scatter\n",
    "plt.figure(figsize=(10,6))\n",
    "sns.scatterplot(data=df, x=\"Voters\", y=\"Geek_Ratings\", alpha=0.7)\n",
    "plt.title(\"Votes vs Geek Rating\")\n",
    "plt.xlabel(\"Number of Voters\")\n",
    "plt.ylabel(\"Geek Rating\")\n",
    "plt.tight_layout()\n",
    "plt.show()"
   ]
  }
 ],
 "metadata": {
  "kernelspec": {
   "display_name": "Python 3",
   "language": "python",
   "name": "python3"
  },
  "language_info": {
   "codemirror_mode": {
    "name": "ipython",
    "version": 3
   },
   "file_extension": ".py",
   "mimetype": "text/x-python",
   "name": "python",
   "nbconvert_exporter": "python",
   "pygments_lexer": "ipython3",
   "version": "3.10.5"
  }
 },
 "nbformat": 4,
 "nbformat_minor": 5
}
